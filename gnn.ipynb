{
  "cells": [
    {
      "cell_type": "code",
      "execution_count": null,
      "metadata": {
        "id": "oqTIMkM2TOdO"
      },
      "outputs": [],
      "source": [
        "# install StellarGraph if running on Google Colab\n",
        "import sys\n",
        "if 'google.colab' in sys.modules:\n",
        "  %pip install -q stellargraph[demos]==1.2.1"
      ]
    },
    {
      "cell_type": "code",
      "execution_count": null,
      "metadata": {
        "id": "9IfzypRWTOdP"
      },
      "outputs": [],
      "source": [
        "# verify that we're using the correct version of StellarGraph for this notebook\n",
        "import stellargraph as sg\n",
        "\n",
        "try:\n",
        "    sg.utils.validate_notebook_version(\"1.2.1\")\n",
        "except AttributeError:\n",
        "    raise ValueError(\n",
        "        f\"This notebook requires StellarGraph version 1.2.1, but a different version {sg.__version__} is installed.  Please see <https://github.com/stellargraph/stellargraph/issues/1172>.\"\n",
        "    ) from None"
      ]
    },
    {
      "cell_type": "code",
      "execution_count": null,
      "metadata": {
        "id": "67OsEVWwTOdP"
      },
      "outputs": [],
      "source": [
        "from stellargraph import StellarGraph\n",
        "import stellargraph as sg\n",
        "from stellargraph.data import EdgeSplitter\n",
        "from stellargraph.mapper import FullBatchNodeGenerator, FullBatchLinkGenerator\n",
        "from stellargraph.layer import GCN, LinkEmbedding\n",
        "\n",
        "import tensorflow as tf\n",
        "from tensorflow import keras\n",
        "from tensorflow.keras import layers\n",
        "from sklearn import preprocessing, feature_extraction, model_selection\n",
        "\n",
        "from stellargraph import globalvar\n",
        "from stellargraph import datasets\n",
        "from IPython.display import display, HTML\n",
        "%matplotlib inline"
      ]
    },
    {
      "cell_type": "code",
      "execution_count": null,
      "metadata": {
        "id": "gVfq5BXqTOdR"
      },
      "outputs": [],
      "source": [
        "import collections\n",
        "import numpy as np\n",
        "import pandas as pd\n",
        "import pickle\n",
        "from random import uniform as random_uniform\n",
        "from scipy.spatial import distance\n",
        "from scipy.stats import spearmanr\n",
        "from sklearn.preprocessing import StandardScaler"
      ]
    },
    {
      "cell_type": "markdown",
      "metadata": {
        "id": "zEhCzMNkTOds"
      },
      "source": [
        "<table><tr><td>Run the latest release of this notebook:</td><td><a href=\"https://mybinder.org/v2/gh/stellargraph/stellargraph/master?urlpath=lab/tree/demos/basics/loading-pandas.ipynb\" alt=\"Open In Binder\" target=\"_parent\"><img src=\"https://mybinder.org/badge_logo.svg\"/></a></td><td><a href=\"https://colab.research.google.com/github/stellargraph/stellargraph/blob/master/demos/basics/loading-pandas.ipynb\" alt=\"Open In Colab\" target=\"_parent\"><img src=\"https://colab.research.google.com/assets/colab-badge.svg\"/></a></td></tr></table>"
      ]
    },
    {
      "cell_type": "code",
      "execution_count": null,
      "metadata": {
        "id": "BniE72pyP_sc"
      },
      "outputs": [],
      "source": [
        "from google.colab import drive\n",
        "drive.mount('/content/drive')"
      ]
    },
    {
      "cell_type": "code",
      "execution_count": null,
      "metadata": {
        "id": "AOxf4C4vnmoD"
      },
      "outputs": [],
      "source": [
        "cate_to_idx = {'Nightlife Spot': 0,\n",
        "              'Food': 1,\n",
        "              'Travel & Transport': 2,\n",
        "              'Professional & Other Places': 3,\n",
        "              'Shop & Service': 4,\n",
        "              'Residence': 5,\n",
        "              'Outdoors & Recreation': 6,\n",
        "              'Arts & Entertainment': 7,\n",
        "              'College & University': 8,\n",
        "              'Event': 9}"
      ]
    },
    {
      "cell_type": "code",
      "execution_count": null,
      "metadata": {
        "id": "z5NoxoA1eo6l"
      },
      "outputs": [],
      "source": [
        "city = 'chicago'\n",
        "period = 'midday'"
      ]
    },
    {
      "cell_type": "code",
      "execution_count": null,
      "metadata": {
        "id": "6y5ifH_1eo84"
      },
      "outputs": [],
      "source": [
        "adj_matrix = pd.read_pickle('/content/drive/My Drive/Colab Notebooks/' + city + '_' + period + '_adj_matrix_business.pkl')"
      ]
    },
    {
      "cell_type": "code",
      "execution_count": null,
      "metadata": {
        "id": "KgN745kqfZeH"
      },
      "outputs": [],
      "source": [
        "cate_features = pd.read_pickle('/content/drive/My Drive/Colab Notebooks/cate_features_' + city + '.pkl')"
      ]
    },
    {
      "cell_type": "code",
      "execution_count": null,
      "metadata": {
        "id": "x3Hht_4To8AS"
      },
      "outputs": [],
      "source": [
        "postal_set = set(cate_features.index)"
      ]
    },
    {
      "cell_type": "code",
      "execution_count": null,
      "metadata": {
        "id": "HwqyA8CsfZj6"
      },
      "outputs": [],
      "source": [
        "scaler = StandardScaler()\n",
        "cate_features_array = scaler.fit_transform(cate_features)"
      ]
    },
    {
      "cell_type": "code",
      "execution_count": null,
      "metadata": {
        "id": "QkCU4cxbepBW"
      },
      "outputs": [],
      "source": [
        "for cate in cate_to_idx:\n",
        "  idx = cate_to_idx[cate]\n",
        "  cate_features[cate] = cate_features_array.T[idx]"
      ]
    },
    {
      "cell_type": "code",
      "execution_count": null,
      "metadata": {
        "id": "OC_rg4SF1iAR"
      },
      "outputs": [],
      "source": [
        "postal_nodes = cate_features"
      ]
    },
    {
      "cell_type": "code",
      "source": [
        "adj_matrix"
      ],
      "metadata": {
        "id": "uwGc5Q5Fp-U7"
      },
      "execution_count": null,
      "outputs": []
    },
    {
      "cell_type": "code",
      "execution_count": null,
      "metadata": {
        "id": "UAIT18H4qdHB"
      },
      "outputs": [],
      "source": [
        "all_selected_edges = pd.read_pickle('/content/drive/My Drive/Colab Notebooks/' + city + '_all_selected_edges.pkl')"
      ]
    },
    {
      "cell_type": "code",
      "execution_count": null,
      "metadata": {
        "id": "5qQ3XDAooyJV"
      },
      "outputs": [],
      "source": [
        "out_postals = []\n",
        "in_postals = []\n",
        "postal_pair_to_weight = {}\n",
        "for out_postal, record in adj_matrix.iterrows():\n",
        "  if out_postal not in postal_set:\n",
        "    continue\n",
        "  for in_postal in postal_set:\n",
        "    if (out_postal, in_postal) not in all_selected_edges:\n",
        "      continue\n",
        "    weight = record[in_postal]\n",
        "    out_postals.append(out_postal)\n",
        "    in_postals.append(in_postal)\n",
        "    postal_pair_to_weight[(out_postal, in_postal)] = weight"
      ]
    },
    {
      "cell_type": "code",
      "execution_count": null,
      "metadata": {
        "id": "KKph9-Vw8ZsK"
      },
      "outputs": [],
      "source": [
        "print(len(out_postals), len(in_postals), len(postal_pair_to_weight))\n",
        "assert len(postal_pair_to_weight) == len(all_selected_edges)"
      ]
    },
    {
      "cell_type": "code",
      "execution_count": null,
      "metadata": {
        "id": "-GRuK1IsoWFS"
      },
      "outputs": [],
      "source": [
        "# postal_pair_to_weight[('60637', '60655')]"
      ]
    },
    {
      "cell_type": "code",
      "execution_count": null,
      "metadata": {
        "id": "zS_eLByuoL-H"
      },
      "outputs": [],
      "source": [
        "postal_edges = pd.DataFrame(\n",
        "    {\n",
        "        \"source\": out_postals,\n",
        "        \"target\": in_postals,\n",
        "    }\n",
        ")\n",
        "postal_edges"
      ]
    },
    {
      "cell_type": "code",
      "execution_count": null,
      "metadata": {
        "id": "DUPmo_QawaV9"
      },
      "outputs": [],
      "source": [
        "G = StellarGraph(\n",
        "    {\"corner\": postal_nodes}, {\"line\": postal_edges}\n",
        ")\n",
        "print(G.info())"
      ]
    },
    {
      "cell_type": "code",
      "execution_count": null,
      "metadata": {
        "id": "wpxRdVXERuRz"
      },
      "outputs": [],
      "source": [
        "f = open('/content/drive/My Drive/Colab Notebooks/G_' + city + '_' + period + '.pkl', \"wb\")\n",
        "pickle.dump(G, f)\n",
        "f.close()"
      ]
    },
    {
      "cell_type": "code",
      "execution_count": null,
      "metadata": {
        "id": "vZTf4JhPnMwZ"
      },
      "outputs": [],
      "source": []
    },
    {
      "cell_type": "code",
      "execution_count": null,
      "metadata": {
        "id": "lQxQHKY605fY"
      },
      "outputs": [],
      "source": [
        "edge_ids = []\n",
        "labels = []\n",
        "for postals, weight in postal_pair_to_weight.items():\n",
        "  edge_id = [postals[0], postals[1]]\n",
        "  edge_ids.append(edge_id)\n",
        "  labels.append(weight)\n",
        "edge_ids = np.asarray(edge_ids)\n",
        "labels = np.asarray(labels)"
      ]
    },
    {
      "cell_type": "code",
      "execution_count": null,
      "metadata": {
        "id": "DMzsa7cN05hq"
      },
      "outputs": [],
      "source": [
        "train_gen = FullBatchLinkGenerator(G, method=\"gcn\")\n",
        "train_flow = train_gen.flow(edge_ids, labels)"
      ]
    },
    {
      "cell_type": "code",
      "execution_count": null,
      "metadata": {
        "id": "okNvbis905kB"
      },
      "outputs": [],
      "source": [
        "num_layers = 4\n",
        "gcn = GCN(\n",
        "    layer_sizes=[32] * num_layers, activations=[\"relu\"] * num_layers, generator=train_gen, dropout=0.0\n",
        ")"
      ]
    },
    {
      "cell_type": "code",
      "execution_count": null,
      "metadata": {
        "id": "3b-TgHaT05mg"
      },
      "outputs": [],
      "source": [
        "x_inp, x_out = gcn.in_out_tensors()"
      ]
    },
    {
      "cell_type": "code",
      "execution_count": null,
      "metadata": {
        "id": "n7fRojBkoMAL"
      },
      "outputs": [],
      "source": [
        "before_prediction = LinkEmbedding(activation=\"relu\", method=\"concat\")(x_out)\n",
        "before_prediction.shape"
      ]
    },
    {
      "cell_type": "code",
      "execution_count": null,
      "metadata": {
        "id": "FEhZgR7c25OB"
      },
      "outputs": [],
      "source": [
        "norm_layer = tf.keras.layers.LayerNormalization()\n",
        "norm_before_prediction = norm_layer(before_prediction)\n",
        "norm_before_prediction.shape"
      ]
    },
    {
      "cell_type": "markdown",
      "metadata": {
        "id": "jcAnS5Y-__fy"
      },
      "source": [
        "Add layer:\n",
        "\n",
        "https://www.tensorflow.org/api_docs/python/tf/keras/layers/Layer"
      ]
    },
    {
      "cell_type": "code",
      "execution_count": null,
      "metadata": {
        "id": "0cXyz9xl28li"
      },
      "outputs": [],
      "source": [
        "prediction = layers.Dense(units=1, activation=\"linear\")(norm_before_prediction)\n",
        "prediction.shape"
      ]
    },
    {
      "cell_type": "code",
      "execution_count": null,
      "metadata": {
        "id": "j5D_1Lhd3ARu"
      },
      "outputs": [],
      "source": [
        "prediction = keras.layers.Reshape((-1,))(prediction)\n",
        "prediction.shape"
      ]
    },
    {
      "cell_type": "markdown",
      "metadata": {
        "id": "Zh_zLZF9ZYRh"
      },
      "source": [
        "Should select a suitable optimizer:\n",
        "\n",
        "https://keras.io/api/optimizers/"
      ]
    },
    {
      "cell_type": "code",
      "execution_count": null,
      "metadata": {
        "id": "_GsKy23R3DQz"
      },
      "outputs": [],
      "source": [
        "model = keras.Model(inputs=x_inp, outputs=prediction)\n",
        "\n",
        "model.compile(\n",
        "    optimizer=keras.optimizers.Adagrad(learning_rate=0.02),\n",
        "    loss=keras.losses.MeanSquaredError(),\n",
        "    metrics=[keras.metrics.MeanSquaredError()]\n",
        ")"
      ]
    },
    {
      "cell_type": "code",
      "execution_count": null,
      "metadata": {
        "id": "8yHkYohK3FFf"
      },
      "outputs": [],
      "source": [
        "init_train_metrics = model.evaluate(train_flow)\n",
        "\n",
        "print(\"\\nTrain Set Metrics of the initial (untrained) model:\")\n",
        "for name, val in zip(model.metrics_names, init_train_metrics):\n",
        "    print(\"\\t{}: {:0.4f}\".format(name, val))"
      ]
    },
    {
      "cell_type": "code",
      "execution_count": null,
      "metadata": {
        "id": "yG-9XZSU3G7m"
      },
      "outputs": [],
      "source": [
        "epochs = 40000\n",
        "history = model.fit(\n",
        "    train_flow, epochs=epochs, verbose='auto', shuffle=False\n",
        ")"
      ]
    },
    {
      "cell_type": "code",
      "execution_count": null,
      "metadata": {
        "id": "dJtcniji3WQW"
      },
      "outputs": [],
      "source": [
        "sg.utils.plot_history(history)"
      ]
    },
    {
      "cell_type": "code",
      "execution_count": null,
      "metadata": {
        "id": "bwBgCZL53uyG"
      },
      "outputs": [],
      "source": [
        "all_predictions = model.predict(train_gen.flow(G.edges()))"
      ]
    },
    {
      "cell_type": "code",
      "execution_count": null,
      "metadata": {
        "id": "VqSFuyg-37Yp"
      },
      "outputs": [],
      "source": [
        "all_predictions"
      ]
    },
    {
      "cell_type": "code",
      "execution_count": null,
      "metadata": {
        "id": "jUV4eFZB3-SH"
      },
      "outputs": [],
      "source": [
        "len(all_predictions[0])"
      ]
    },
    {
      "cell_type": "code",
      "execution_count": null,
      "metadata": {
        "id": "FfYAk1pd4G4Y"
      },
      "outputs": [],
      "source": [
        "before_prediction_model = keras.Model(inputs=x_inp, outputs=before_prediction)"
      ]
    },
    {
      "cell_type": "code",
      "execution_count": null,
      "metadata": {
        "id": "T3MtHrEl4I9s"
      },
      "outputs": [],
      "source": [
        "before_prediction_features = before_prediction_model.predict(train_gen.flow(G.edges()))"
      ]
    },
    {
      "cell_type": "code",
      "execution_count": null,
      "metadata": {
        "id": "DnmUeXuy4Ket"
      },
      "outputs": [],
      "source": [
        "before_prediction_features.shape"
      ]
    },
    {
      "cell_type": "code",
      "execution_count": null,
      "metadata": {
        "id": "DvzpfHIe4L2d"
      },
      "outputs": [],
      "source": [
        "before_prediction_features = before_prediction_features[0]\n",
        "before_prediction_features.shape"
      ]
    },
    {
      "cell_type": "code",
      "execution_count": null,
      "metadata": {
        "id": "SGTXH4gs4Ntx"
      },
      "outputs": [],
      "source": [
        "np.array_equiv(before_prediction_features[1], before_prediction_features[100])"
      ]
    },
    {
      "cell_type": "code",
      "execution_count": null,
      "metadata": {
        "id": "dqpEZViv4Qrf"
      },
      "outputs": [],
      "source": [
        "x_out_model = keras.Model(inputs=x_inp, outputs=x_out)"
      ]
    },
    {
      "cell_type": "code",
      "execution_count": null,
      "metadata": {
        "id": "FMRd4osd4UFf"
      },
      "outputs": [],
      "source": [
        "x_out_features = x_out_model.predict(train_gen.flow(G.edges()))"
      ]
    },
    {
      "cell_type": "code",
      "execution_count": null,
      "metadata": {
        "id": "FCC5_LQx4XTL"
      },
      "outputs": [],
      "source": [
        "x_out_features = x_out_features[0]\n",
        "x_out_features.shape"
      ]
    },
    {
      "cell_type": "code",
      "execution_count": null,
      "metadata": {
        "id": "eM_hZjtvJmRT"
      },
      "outputs": [],
      "source": []
    }
  ],
  "metadata": {
    "colab": {
      "provenance": []
    },
    "kernelspec": {
      "display_name": "Python 3",
      "language": "python",
      "name": "python3"
    },
    "language_info": {
      "codemirror_mode": {
        "name": "ipython",
        "version": 3
      },
      "file_extension": ".py",
      "mimetype": "text/x-python",
      "name": "python",
      "nbconvert_exporter": "python",
      "pygments_lexer": "ipython3",
      "version": "3.6.9"
    }
  },
  "nbformat": 4,
  "nbformat_minor": 0
}